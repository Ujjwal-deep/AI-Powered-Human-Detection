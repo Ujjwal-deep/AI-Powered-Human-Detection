{
 "cells": [
  {
   "cell_type": "markdown",
   "metadata": {},
   "source": [
    "# Training Data"
   ]
  },
  {
   "cell_type": "code",
   "execution_count": 2,
   "metadata": {},
   "outputs": [
    {
     "data": {
      "text/plain": [
       "dict_keys(['info', 'licenses', 'images', 'annotations', 'categories'])"
      ]
     },
     "execution_count": 2,
     "metadata": {},
     "output_type": "execute_result"
    }
   ],
   "source": [
    "import json\n",
    "\n",
    "path = 'C:/Users/ujjwa/OneDrive/Documents/E yantra sample/annotations_trainval2017/annotations/instances_train2017.json'\n",
    "file = open(path)\n",
    "anns = json.load(file)\n",
    "anns.keys()"
   ]
  },
  {
   "cell_type": "code",
   "execution_count": 4,
   "metadata": {},
   "outputs": [
    {
     "data": {
      "text/plain": [
       "{'supercategory': 'person', 'id': 1, 'name': 'person'}"
      ]
     },
     "execution_count": 4,
     "metadata": {},
     "output_type": "execute_result"
    }
   ],
   "source": [
    "anns['categories'][0]"
   ]
  },
  {
   "cell_type": "code",
   "execution_count": 6,
   "metadata": {},
   "outputs": [
    {
     "data": {
      "text/plain": [
       "{'license': 3,\n",
       " 'file_name': '000000391895.jpg',\n",
       " 'coco_url': 'http://images.cocodataset.org/train2017/000000391895.jpg',\n",
       " 'height': 360,\n",
       " 'width': 640,\n",
       " 'date_captured': '2013-11-14 11:18:45',\n",
       " 'flickr_url': 'http://farm9.staticflickr.com/8186/8119368305_4e622c8349_z.jpg',\n",
       " 'id': 391895}"
      ]
     },
     "execution_count": 6,
     "metadata": {},
     "output_type": "execute_result"
    }
   ],
   "source": [
    "anns['images'][0]"
   ]
  },
  {
   "cell_type": "code",
   "execution_count": 8,
   "metadata": {},
   "outputs": [
    {
     "data": {
      "text/plain": [
       "{'segmentation': [[239.97,\n",
       "   260.24,\n",
       "   222.04,\n",
       "   270.49,\n",
       "   199.84,\n",
       "   253.41,\n",
       "   213.5,\n",
       "   227.79,\n",
       "   259.62,\n",
       "   200.46,\n",
       "   274.13,\n",
       "   202.17,\n",
       "   277.55,\n",
       "   210.71,\n",
       "   249.37,\n",
       "   253.41,\n",
       "   237.41,\n",
       "   264.51,\n",
       "   242.54,\n",
       "   261.95,\n",
       "   228.87,\n",
       "   271.34]],\n",
       " 'area': 2765.1486500000005,\n",
       " 'iscrowd': 0,\n",
       " 'image_id': 558840,\n",
       " 'bbox': [199.84, 200.46, 77.71, 70.88],\n",
       " 'category_id': 58,\n",
       " 'id': 156}"
      ]
     },
     "execution_count": 8,
     "metadata": {},
     "output_type": "execute_result"
    }
   ],
   "source": [
    "anns['annotations'][0]"
   ]
  },
  {
   "cell_type": "code",
   "execution_count": 10,
   "metadata": {},
   "outputs": [
    {
     "name": "stdout",
     "output_type": "stream",
     "text": [
      "860001\n",
      "118287\n"
     ]
    }
   ],
   "source": [
    "print(len(anns['annotations']))\n",
    "print(len(anns['images']))"
   ]
  },
  {
   "cell_type": "code",
   "execution_count": 12,
   "metadata": {},
   "outputs": [],
   "source": [
    "df_dict = {'file_name':[],\n",
    "           'id':[]}\n",
    "for i in anns['images']:\n",
    "    df_dict['file_name'].append(i['file_name'])\n",
    "    df_dict['id'].append(i['id'])"
   ]
  },
  {
   "cell_type": "markdown",
   "metadata": {},
   "source": [
    "Dictionary for category id and class name"
   ]
  },
  {
   "cell_type": "code",
   "execution_count": 15,
   "metadata": {},
   "outputs": [],
   "source": [
    "category = {1:\"Person\",\n",
    "            0:\"Other\"}"
   ]
  },
  {
   "cell_type": "code",
   "execution_count": 8,
   "metadata": {},
   "outputs": [],
   "source": [
    "import pandas as pd\n",
    "import numpy as np\n",
    "import matplotlib.pyplot as plt\n",
    "%matplotlib inline"
   ]
  },
  {
   "cell_type": "code",
   "execution_count": 18,
   "metadata": {},
   "outputs": [],
   "source": [
    "image_info = pd.DataFrame(df_dict)"
   ]
  },
  {
   "cell_type": "code",
   "execution_count": 19,
   "metadata": {},
   "outputs": [],
   "source": [
    "class_dict = {}\n",
    "image_info['class'] = 0\n",
    "for i in image_info['id']:\n",
    "    class_dict[i] = []\n",
    "\n",
    "for i in anns['annotations']:\n",
    "    class_dict[i['image_id']].append(i['category_id'])"
   ]
  },
  {
   "cell_type": "code",
   "execution_count": 23,
   "metadata": {},
   "outputs": [],
   "source": [
    "for i in class_dict.keys():\n",
    "    if 1 in class_dict[i]:\n",
    "        class_dict[i] = 1\n",
    "    else:\n",
    "        class_dict[i] = 0 "
   ]
  },
  {
   "cell_type": "code",
   "execution_count": 25,
   "metadata": {},
   "outputs": [],
   "source": [
    "image_info['class'] = class_dict.values()"
   ]
  },
  {
   "cell_type": "code",
   "execution_count": 27,
   "metadata": {},
   "outputs": [],
   "source": [
    "image_info['class_name'] = image_info['class'].apply(lambda x:category[x])"
   ]
  },
  {
   "cell_type": "code",
   "execution_count": 29,
   "metadata": {},
   "outputs": [
    {
     "data": {
      "text/plain": [
       "class_name\n",
       "Person    64115\n",
       "Other     54172\n",
       "Name: count, dtype: int64"
      ]
     },
     "execution_count": 29,
     "metadata": {},
     "output_type": "execute_result"
    }
   ],
   "source": [
    "image_info.value_counts('class_name')"
   ]
  },
  {
   "cell_type": "code",
   "execution_count": 31,
   "metadata": {},
   "outputs": [
    {
     "data": {
      "text/html": [
       "<div>\n",
       "<style scoped>\n",
       "    .dataframe tbody tr th:only-of-type {\n",
       "        vertical-align: middle;\n",
       "    }\n",
       "\n",
       "    .dataframe tbody tr th {\n",
       "        vertical-align: top;\n",
       "    }\n",
       "\n",
       "    .dataframe thead th {\n",
       "        text-align: right;\n",
       "    }\n",
       "</style>\n",
       "<table border=\"1\" class=\"dataframe\">\n",
       "  <thead>\n",
       "    <tr style=\"text-align: right;\">\n",
       "      <th></th>\n",
       "      <th>file_name</th>\n",
       "      <th>id</th>\n",
       "      <th>class</th>\n",
       "      <th>class_name</th>\n",
       "    </tr>\n",
       "  </thead>\n",
       "  <tbody>\n",
       "    <tr>\n",
       "      <th>0</th>\n",
       "      <td>000000391895.jpg</td>\n",
       "      <td>391895</td>\n",
       "      <td>1</td>\n",
       "      <td>Person</td>\n",
       "    </tr>\n",
       "    <tr>\n",
       "      <th>1</th>\n",
       "      <td>000000522418.jpg</td>\n",
       "      <td>522418</td>\n",
       "      <td>1</td>\n",
       "      <td>Person</td>\n",
       "    </tr>\n",
       "    <tr>\n",
       "      <th>2</th>\n",
       "      <td>000000184613.jpg</td>\n",
       "      <td>184613</td>\n",
       "      <td>1</td>\n",
       "      <td>Person</td>\n",
       "    </tr>\n",
       "    <tr>\n",
       "      <th>3</th>\n",
       "      <td>000000318219.jpg</td>\n",
       "      <td>318219</td>\n",
       "      <td>1</td>\n",
       "      <td>Person</td>\n",
       "    </tr>\n",
       "    <tr>\n",
       "      <th>4</th>\n",
       "      <td>000000554625.jpg</td>\n",
       "      <td>554625</td>\n",
       "      <td>1</td>\n",
       "      <td>Person</td>\n",
       "    </tr>\n",
       "    <tr>\n",
       "      <th>...</th>\n",
       "      <td>...</td>\n",
       "      <td>...</td>\n",
       "      <td>...</td>\n",
       "      <td>...</td>\n",
       "    </tr>\n",
       "    <tr>\n",
       "      <th>118282</th>\n",
       "      <td>000000444010.jpg</td>\n",
       "      <td>444010</td>\n",
       "      <td>1</td>\n",
       "      <td>Person</td>\n",
       "    </tr>\n",
       "    <tr>\n",
       "      <th>118283</th>\n",
       "      <td>000000565004.jpg</td>\n",
       "      <td>565004</td>\n",
       "      <td>1</td>\n",
       "      <td>Person</td>\n",
       "    </tr>\n",
       "    <tr>\n",
       "      <th>118284</th>\n",
       "      <td>000000516168.jpg</td>\n",
       "      <td>516168</td>\n",
       "      <td>1</td>\n",
       "      <td>Person</td>\n",
       "    </tr>\n",
       "    <tr>\n",
       "      <th>118285</th>\n",
       "      <td>000000547503.jpg</td>\n",
       "      <td>547503</td>\n",
       "      <td>1</td>\n",
       "      <td>Person</td>\n",
       "    </tr>\n",
       "    <tr>\n",
       "      <th>118286</th>\n",
       "      <td>000000475546.jpg</td>\n",
       "      <td>475546</td>\n",
       "      <td>1</td>\n",
       "      <td>Person</td>\n",
       "    </tr>\n",
       "  </tbody>\n",
       "</table>\n",
       "<p>118287 rows × 4 columns</p>\n",
       "</div>"
      ],
      "text/plain": [
       "               file_name      id  class class_name\n",
       "0       000000391895.jpg  391895      1     Person\n",
       "1       000000522418.jpg  522418      1     Person\n",
       "2       000000184613.jpg  184613      1     Person\n",
       "3       000000318219.jpg  318219      1     Person\n",
       "4       000000554625.jpg  554625      1     Person\n",
       "...                  ...     ...    ...        ...\n",
       "118282  000000444010.jpg  444010      1     Person\n",
       "118283  000000565004.jpg  565004      1     Person\n",
       "118284  000000516168.jpg  516168      1     Person\n",
       "118285  000000547503.jpg  547503      1     Person\n",
       "118286  000000475546.jpg  475546      1     Person\n",
       "\n",
       "[118287 rows x 4 columns]"
      ]
     },
     "execution_count": 31,
     "metadata": {},
     "output_type": "execute_result"
    }
   ],
   "source": [
    "image_info"
   ]
  },
  {
   "cell_type": "markdown",
   "metadata": {},
   "source": [
    "# Validation"
   ]
  },
  {
   "cell_type": "code",
   "execution_count": 34,
   "metadata": {},
   "outputs": [
    {
     "data": {
      "text/plain": [
       "dict_keys(['info', 'licenses', 'images', 'annotations', 'categories'])"
      ]
     },
     "execution_count": 34,
     "metadata": {},
     "output_type": "execute_result"
    }
   ],
   "source": [
    "import json\n",
    "\n",
    "path = 'C:/Users/ujjwa/OneDrive/Documents/E yantra sample/annotations_trainval2017/annotations/instances_val2017.json'\n",
    "file = open(path)\n",
    "val_anns = json.load(file)\n",
    "val_anns.keys()"
   ]
  },
  {
   "cell_type": "code",
   "execution_count": 36,
   "metadata": {},
   "outputs": [],
   "source": [
    "df_dict = {'file_name':[],\n",
    "           'id':[]}\n",
    "for i in val_anns['images']:\n",
    "    df_dict['file_name'].append(i['file_name'])\n",
    "    df_dict['id'].append(i['id'])"
   ]
  },
  {
   "cell_type": "code",
   "execution_count": 38,
   "metadata": {},
   "outputs": [],
   "source": [
    "val_image_info = pd.DataFrame(df_dict)"
   ]
  },
  {
   "cell_type": "code",
   "execution_count": 40,
   "metadata": {},
   "outputs": [],
   "source": [
    "class_dict = {}\n",
    "val_image_info['class'] = 0\n",
    "for i in val_image_info['id']:\n",
    "    class_dict[i] = []\n",
    "\n",
    "for i in val_anns['annotations']:\n",
    "    class_dict[i['image_id']].append(i['category_id'])"
   ]
  },
  {
   "cell_type": "code",
   "execution_count": 42,
   "metadata": {},
   "outputs": [],
   "source": [
    "for i in class_dict.keys():\n",
    "    if 1 in class_dict[i]:\n",
    "        class_dict[i] = 1\n",
    "    else:\n",
    "        class_dict[i] = 0 "
   ]
  },
  {
   "cell_type": "code",
   "execution_count": 44,
   "metadata": {},
   "outputs": [],
   "source": [
    "val_image_info['class'] = class_dict.values()"
   ]
  },
  {
   "cell_type": "code",
   "execution_count": 46,
   "metadata": {},
   "outputs": [],
   "source": [
    "val_image_info['class_name'] = val_image_info['class'].apply(lambda x:category[x])"
   ]
  },
  {
   "cell_type": "code",
   "execution_count": 48,
   "metadata": {},
   "outputs": [
    {
     "data": {
      "text/plain": [
       "class_name\n",
       "Person    2693\n",
       "Other     2307\n",
       "Name: count, dtype: int64"
      ]
     },
     "execution_count": 48,
     "metadata": {},
     "output_type": "execute_result"
    }
   ],
   "source": [
    "val_image_info.value_counts('class_name')"
   ]
  },
  {
   "cell_type": "code",
   "execution_count": 50,
   "metadata": {},
   "outputs": [
    {
     "data": {
      "text/html": [
       "<div>\n",
       "<style scoped>\n",
       "    .dataframe tbody tr th:only-of-type {\n",
       "        vertical-align: middle;\n",
       "    }\n",
       "\n",
       "    .dataframe tbody tr th {\n",
       "        vertical-align: top;\n",
       "    }\n",
       "\n",
       "    .dataframe thead th {\n",
       "        text-align: right;\n",
       "    }\n",
       "</style>\n",
       "<table border=\"1\" class=\"dataframe\">\n",
       "  <thead>\n",
       "    <tr style=\"text-align: right;\">\n",
       "      <th></th>\n",
       "      <th>file_name</th>\n",
       "      <th>id</th>\n",
       "      <th>class</th>\n",
       "      <th>class_name</th>\n",
       "    </tr>\n",
       "  </thead>\n",
       "  <tbody>\n",
       "    <tr>\n",
       "      <th>0</th>\n",
       "      <td>000000397133.jpg</td>\n",
       "      <td>397133</td>\n",
       "      <td>1</td>\n",
       "      <td>Person</td>\n",
       "    </tr>\n",
       "    <tr>\n",
       "      <th>1</th>\n",
       "      <td>000000037777.jpg</td>\n",
       "      <td>37777</td>\n",
       "      <td>0</td>\n",
       "      <td>Other</td>\n",
       "    </tr>\n",
       "    <tr>\n",
       "      <th>2</th>\n",
       "      <td>000000252219.jpg</td>\n",
       "      <td>252219</td>\n",
       "      <td>1</td>\n",
       "      <td>Person</td>\n",
       "    </tr>\n",
       "    <tr>\n",
       "      <th>3</th>\n",
       "      <td>000000087038.jpg</td>\n",
       "      <td>87038</td>\n",
       "      <td>1</td>\n",
       "      <td>Person</td>\n",
       "    </tr>\n",
       "    <tr>\n",
       "      <th>4</th>\n",
       "      <td>000000174482.jpg</td>\n",
       "      <td>174482</td>\n",
       "      <td>0</td>\n",
       "      <td>Other</td>\n",
       "    </tr>\n",
       "    <tr>\n",
       "      <th>...</th>\n",
       "      <td>...</td>\n",
       "      <td>...</td>\n",
       "      <td>...</td>\n",
       "      <td>...</td>\n",
       "    </tr>\n",
       "    <tr>\n",
       "      <th>4995</th>\n",
       "      <td>000000512403.jpg</td>\n",
       "      <td>512403</td>\n",
       "      <td>0</td>\n",
       "      <td>Other</td>\n",
       "    </tr>\n",
       "    <tr>\n",
       "      <th>4996</th>\n",
       "      <td>000000168974.jpg</td>\n",
       "      <td>168974</td>\n",
       "      <td>1</td>\n",
       "      <td>Person</td>\n",
       "    </tr>\n",
       "    <tr>\n",
       "      <th>4997</th>\n",
       "      <td>000000552775.jpg</td>\n",
       "      <td>552775</td>\n",
       "      <td>1</td>\n",
       "      <td>Person</td>\n",
       "    </tr>\n",
       "    <tr>\n",
       "      <th>4998</th>\n",
       "      <td>000000394940.jpg</td>\n",
       "      <td>394940</td>\n",
       "      <td>1</td>\n",
       "      <td>Person</td>\n",
       "    </tr>\n",
       "    <tr>\n",
       "      <th>4999</th>\n",
       "      <td>000000015335.jpg</td>\n",
       "      <td>15335</td>\n",
       "      <td>1</td>\n",
       "      <td>Person</td>\n",
       "    </tr>\n",
       "  </tbody>\n",
       "</table>\n",
       "<p>5000 rows × 4 columns</p>\n",
       "</div>"
      ],
      "text/plain": [
       "             file_name      id  class class_name\n",
       "0     000000397133.jpg  397133      1     Person\n",
       "1     000000037777.jpg   37777      0      Other\n",
       "2     000000252219.jpg  252219      1     Person\n",
       "3     000000087038.jpg   87038      1     Person\n",
       "4     000000174482.jpg  174482      0      Other\n",
       "...                ...     ...    ...        ...\n",
       "4995  000000512403.jpg  512403      0      Other\n",
       "4996  000000168974.jpg  168974      1     Person\n",
       "4997  000000552775.jpg  552775      1     Person\n",
       "4998  000000394940.jpg  394940      1     Person\n",
       "4999  000000015335.jpg   15335      1     Person\n",
       "\n",
       "[5000 rows x 4 columns]"
      ]
     },
     "execution_count": 50,
     "metadata": {},
     "output_type": "execute_result"
    }
   ],
   "source": [
    "val_image_info"
   ]
  },
  {
   "cell_type": "code",
   "execution_count": 52,
   "metadata": {},
   "outputs": [
    {
     "data": {
      "text/html": [
       "<div>\n",
       "<style scoped>\n",
       "    .dataframe tbody tr th:only-of-type {\n",
       "        vertical-align: middle;\n",
       "    }\n",
       "\n",
       "    .dataframe tbody tr th {\n",
       "        vertical-align: top;\n",
       "    }\n",
       "\n",
       "    .dataframe thead th {\n",
       "        text-align: right;\n",
       "    }\n",
       "</style>\n",
       "<table border=\"1\" class=\"dataframe\">\n",
       "  <thead>\n",
       "    <tr style=\"text-align: right;\">\n",
       "      <th></th>\n",
       "      <th>file_name</th>\n",
       "      <th>id</th>\n",
       "      <th>class</th>\n",
       "      <th>class_name</th>\n",
       "    </tr>\n",
       "  </thead>\n",
       "  <tbody>\n",
       "    <tr>\n",
       "      <th>0</th>\n",
       "      <td>000000391895.jpg</td>\n",
       "      <td>391895</td>\n",
       "      <td>1</td>\n",
       "      <td>Person</td>\n",
       "    </tr>\n",
       "    <tr>\n",
       "      <th>1</th>\n",
       "      <td>000000522418.jpg</td>\n",
       "      <td>522418</td>\n",
       "      <td>1</td>\n",
       "      <td>Person</td>\n",
       "    </tr>\n",
       "    <tr>\n",
       "      <th>2</th>\n",
       "      <td>000000184613.jpg</td>\n",
       "      <td>184613</td>\n",
       "      <td>1</td>\n",
       "      <td>Person</td>\n",
       "    </tr>\n",
       "    <tr>\n",
       "      <th>3</th>\n",
       "      <td>000000318219.jpg</td>\n",
       "      <td>318219</td>\n",
       "      <td>1</td>\n",
       "      <td>Person</td>\n",
       "    </tr>\n",
       "    <tr>\n",
       "      <th>4</th>\n",
       "      <td>000000554625.jpg</td>\n",
       "      <td>554625</td>\n",
       "      <td>1</td>\n",
       "      <td>Person</td>\n",
       "    </tr>\n",
       "    <tr>\n",
       "      <th>...</th>\n",
       "      <td>...</td>\n",
       "      <td>...</td>\n",
       "      <td>...</td>\n",
       "      <td>...</td>\n",
       "    </tr>\n",
       "    <tr>\n",
       "      <th>118282</th>\n",
       "      <td>000000444010.jpg</td>\n",
       "      <td>444010</td>\n",
       "      <td>1</td>\n",
       "      <td>Person</td>\n",
       "    </tr>\n",
       "    <tr>\n",
       "      <th>118283</th>\n",
       "      <td>000000565004.jpg</td>\n",
       "      <td>565004</td>\n",
       "      <td>1</td>\n",
       "      <td>Person</td>\n",
       "    </tr>\n",
       "    <tr>\n",
       "      <th>118284</th>\n",
       "      <td>000000516168.jpg</td>\n",
       "      <td>516168</td>\n",
       "      <td>1</td>\n",
       "      <td>Person</td>\n",
       "    </tr>\n",
       "    <tr>\n",
       "      <th>118285</th>\n",
       "      <td>000000547503.jpg</td>\n",
       "      <td>547503</td>\n",
       "      <td>1</td>\n",
       "      <td>Person</td>\n",
       "    </tr>\n",
       "    <tr>\n",
       "      <th>118286</th>\n",
       "      <td>000000475546.jpg</td>\n",
       "      <td>475546</td>\n",
       "      <td>1</td>\n",
       "      <td>Person</td>\n",
       "    </tr>\n",
       "  </tbody>\n",
       "</table>\n",
       "<p>118287 rows × 4 columns</p>\n",
       "</div>"
      ],
      "text/plain": [
       "               file_name      id  class class_name\n",
       "0       000000391895.jpg  391895      1     Person\n",
       "1       000000522418.jpg  522418      1     Person\n",
       "2       000000184613.jpg  184613      1     Person\n",
       "3       000000318219.jpg  318219      1     Person\n",
       "4       000000554625.jpg  554625      1     Person\n",
       "...                  ...     ...    ...        ...\n",
       "118282  000000444010.jpg  444010      1     Person\n",
       "118283  000000565004.jpg  565004      1     Person\n",
       "118284  000000516168.jpg  516168      1     Person\n",
       "118285  000000547503.jpg  547503      1     Person\n",
       "118286  000000475546.jpg  475546      1     Person\n",
       "\n",
       "[118287 rows x 4 columns]"
      ]
     },
     "execution_count": 52,
     "metadata": {},
     "output_type": "execute_result"
    }
   ],
   "source": [
    "image_info"
   ]
  },
  {
   "cell_type": "code",
   "execution_count": 6,
   "metadata": {},
   "outputs": [],
   "source": [
    "from sklearn.model_selection import train_test_split\n",
    "from tensorflow.keras.preprocessing.image import ImageDataGenerator\n",
    "from tensorflow.keras.applications.resnet50 import ResNet50, decode_predictions\n",
    "import tensorflow as tf\n",
    "from tensorflow.keras.layers import Dense, GlobalAveragePooling2D\n",
    "from tensorflow.keras.models import Model\n",
    "from tensorflow.keras.optimizers import Adam\n",
    "from tensorflow.keras.callbacks import TensorBoard, EarlyStopping\n",
    "from tensorflow.keras.callbacks import ReduceLROnPlateau\n",
    "import datetime\n"
   ]
  },
  {
   "cell_type": "code",
   "execution_count": 94,
   "metadata": {},
   "outputs": [],
   "source": [
    "X = image_info.drop(\"class_name\",axis=1)\n",
    "y = image_info['class_name']"
   ]
  },
  {
   "cell_type": "code",
   "execution_count": 96,
   "metadata": {},
   "outputs": [],
   "source": [
    "X_train, X_test, y_train, y_test = train_test_split(X, y, test_size=0.2356, shuffle=True, stratify=y)"
   ]
  },
  {
   "cell_type": "code",
   "execution_count": 98,
   "metadata": {},
   "outputs": [],
   "source": [
    "X_test['class_name'] = y_test"
   ]
  },
  {
   "cell_type": "code",
   "execution_count": 100,
   "metadata": {},
   "outputs": [],
   "source": [
    "train_datagen = ImageDataGenerator(rescale=1.0 / 255)\n",
    "val_datagen = ImageDataGenerator(rescale=1.0 / 255)"
   ]
  },
  {
   "cell_type": "code",
   "execution_count": 102,
   "metadata": {},
   "outputs": [
    {
     "name": "stdout",
     "output_type": "stream",
     "text": [
      "Found 27869 validated image filenames belonging to 2 classes.\n",
      "Found 5000 validated image filenames belonging to 2 classes.\n"
     ]
    }
   ],
   "source": [
    "train_generator = train_datagen.flow_from_dataframe(\n",
    "    dataframe = X_test.drop([\"id\",\"class\"],axis = 1),\n",
    "    directory = 'C:/Users/ujjwa/OneDrive/Documents/E yantra sample/train2017/train2017/',\n",
    "    x_col = 'file_name',\n",
    "    y_col = 'class_name',\n",
    "    target_size = (224,224),\n",
    "    batch_size = 32,\n",
    "    class_mode = 'binary'\n",
    ")\n",
    "\n",
    "val_generator = val_datagen.flow_from_dataframe(\n",
    "    dataframe = val_image_info.drop([\"id\",\"class\"],axis = 1),\n",
    "    directory = 'C:/Users/ujjwa/OneDrive/Documents/E yantra sample/val2017/val2017/',\n",
    "    x_col = 'file_name',\n",
    "    y_col = 'class_name',\n",
    "    target_size = (224,224),\n",
    "    batch_size = 32,\n",
    "    class_mode = 'binary',\n",
    "    shuffle = False\n",
    ")"
   ]
  },
  {
   "cell_type": "code",
   "execution_count": 104,
   "metadata": {},
   "outputs": [],
   "source": [
    "base_model = ResNet50(weights='imagenet', include_top=False,input_shape=(224, 224, 3))"
   ]
  },
  {
   "cell_type": "code",
   "execution_count": 105,
   "metadata": {},
   "outputs": [],
   "source": [
    "x = base_model.output\n",
    "x = GlobalAveragePooling2D()(x)\n",
    "x = Dense(512, activation = 'relu')(x)\n",
    "prediction = Dense(1, activation = 'sigmoid')(x)"
   ]
  },
  {
   "cell_type": "code",
   "execution_count": 108,
   "metadata": {},
   "outputs": [],
   "source": [
    "model = Model(inputs=base_model.input, outputs=prediction)"
   ]
  },
  {
   "cell_type": "code",
   "execution_count": 110,
   "metadata": {},
   "outputs": [],
   "source": [
    "for layer in base_model.layers:\n",
    "    layer.trainable = False"
   ]
  },
  {
   "cell_type": "code",
   "execution_count": 112,
   "metadata": {},
   "outputs": [],
   "source": [
    "for layer in base_model.layers[-10:]:\n",
    "    layer.trainable = True"
   ]
  },
  {
   "cell_type": "code",
   "execution_count": 114,
   "metadata": {},
   "outputs": [],
   "source": [
    "model.compile(\n",
    "    optimizer=Adam(learning_rate=1e-4),\n",
    "    loss='binary_crossentropy',\n",
    "    metrics=['accuracy']\n",
    ")"
   ]
  },
  {
   "cell_type": "code",
   "execution_count": 116,
   "metadata": {},
   "outputs": [],
   "source": [
    "log_dir = \"logs/fit/\" + datetime.datetime.now().strftime(\"%Y%m%d-%H%M%S\")\n",
    "tensorboard_callback = TensorBoard(log_dir=log_dir, histogram_freq=1)"
   ]
  },
  {
   "cell_type": "code",
   "execution_count": 118,
   "metadata": {},
   "outputs": [],
   "source": [
    "early_stopping_callback = EarlyStopping(\n",
    "    monitor='val_accuracy', patience=5, restore_best_weights=True\n",
    ")"
   ]
  },
  {
   "cell_type": "code",
   "execution_count": 120,
   "metadata": {},
   "outputs": [],
   "source": [
    "\n",
    "\n",
    "lr_schedule = ReduceLROnPlateau(\n",
    "    monitor='val_loss',  # Metric to monitor\n",
    "    factor=0.1,          # Reduce learning rate by this factor\n",
    "    patience=5,          # Number of epochs with no improvement to wait\n",
    "    min_lr=1e-4,         # Minimum learning rate\n",
    "    verbose=1            # Prints a message when learning rate is reduced\n",
    ")\n"
   ]
  },
  {
   "cell_type": "code",
   "execution_count": 122,
   "metadata": {},
   "outputs": [
    {
     "name": "stdout",
     "output_type": "stream",
     "text": [
      "Epoch 1/10\n",
      "871/871 [==============================] - 2308s 3s/step - loss: 0.6344 - accuracy: 0.6349 - val_loss: 0.6237 - val_accuracy: 0.6416 - lr: 1.0000e-04\n",
      "Epoch 2/10\n",
      "871/871 [==============================] - 2441s 3s/step - loss: 0.5991 - accuracy: 0.6747 - val_loss: 0.6074 - val_accuracy: 0.6736 - lr: 1.0000e-04\n",
      "Epoch 3/10\n",
      "871/871 [==============================] - 2523s 3s/step - loss: 0.5847 - accuracy: 0.6852 - val_loss: 0.6169 - val_accuracy: 0.6658 - lr: 1.0000e-04\n",
      "Epoch 4/10\n",
      "871/871 [==============================] - 2449s 3s/step - loss: 0.5740 - accuracy: 0.6934 - val_loss: 0.7092 - val_accuracy: 0.5950 - lr: 1.0000e-04\n",
      "Epoch 5/10\n",
      "871/871 [==============================] - 2391s 3s/step - loss: 0.5620 - accuracy: 0.7063 - val_loss: 0.5927 - val_accuracy: 0.6832 - lr: 1.0000e-04\n",
      "Epoch 6/10\n",
      "871/871 [==============================] - 2380s 3s/step - loss: 0.5506 - accuracy: 0.7111 - val_loss: 0.5949 - val_accuracy: 0.6762 - lr: 1.0000e-04\n",
      "Epoch 7/10\n",
      "871/871 [==============================] - 2376s 3s/step - loss: 0.5391 - accuracy: 0.7227 - val_loss: 0.5909 - val_accuracy: 0.6776 - lr: 1.0000e-04\n",
      "Epoch 8/10\n",
      "871/871 [==============================] - 2356s 3s/step - loss: 0.5269 - accuracy: 0.7300 - val_loss: 0.6224 - val_accuracy: 0.6780 - lr: 1.0000e-04\n",
      "Epoch 9/10\n",
      "871/871 [==============================] - 2368s 3s/step - loss: 0.5133 - accuracy: 0.7400 - val_loss: 0.6007 - val_accuracy: 0.6886 - lr: 1.0000e-04\n",
      "Epoch 10/10\n",
      "871/871 [==============================] - 2292s 3s/step - loss: 0.5034 - accuracy: 0.7497 - val_loss: 0.7058 - val_accuracy: 0.6160 - lr: 1.0000e-04\n"
     ]
    },
    {
     "data": {
      "text/plain": [
       "<keras.callbacks.History at 0x27df3b05180>"
      ]
     },
     "execution_count": 122,
     "metadata": {},
     "output_type": "execute_result"
    }
   ],
   "source": [
    "model.fit(\n",
    "    train_generator,\n",
    "    validation_data=val_generator,\n",
    "    epochs=10,\n",
    "    callbacks=[tensorboard_callback, early_stopping_callback,lr_schedule],\n",
    ")"
   ]
  },
  {
   "cell_type": "code",
   "execution_count": 126,
   "metadata": {},
   "outputs": [
    {
     "name": "stderr",
     "output_type": "stream",
     "text": [
      "WARNING:absl:Found untraced functions such as _jit_compiled_convolution_op, _jit_compiled_convolution_op, _jit_compiled_convolution_op, _jit_compiled_convolution_op, _jit_compiled_convolution_op while saving (showing 5 of 53). These functions will not be directly callable after loading.\n"
     ]
    },
    {
     "name": "stdout",
     "output_type": "stream",
     "text": [
      "INFO:tensorflow:Assets written to: gyatt\\assets\n"
     ]
    },
    {
     "name": "stderr",
     "output_type": "stream",
     "text": [
      "INFO:tensorflow:Assets written to: gyatt\\assets\n"
     ]
    }
   ],
   "source": [
    "model.save(\"gyatt\")"
   ]
  },
  {
   "cell_type": "code",
   "execution_count": 44,
   "metadata": {},
   "outputs": [
    {
     "name": "stdout",
     "output_type": "stream",
     "text": [
      "Press 'q' to exit.\n",
      "1/1 [==============================] - 1s 1s/step\n",
      "1/1 [==============================] - 0s 178ms/step\n",
      "1/1 [==============================] - 0s 97ms/step\n",
      "1/1 [==============================] - 0s 95ms/step\n",
      "1/1 [==============================] - 0s 96ms/step\n",
      "1/1 [==============================] - 0s 95ms/step\n",
      "1/1 [==============================] - 0s 98ms/step\n",
      "1/1 [==============================] - 0s 96ms/step\n",
      "Person detected!\n",
      "1/1 [==============================] - 0s 185ms/step\n",
      "1/1 [==============================] - 0s 96ms/step\n",
      "1/1 [==============================] - 0s 96ms/step\n",
      "1/1 [==============================] - 0s 98ms/step\n",
      "1/1 [==============================] - 0s 95ms/step\n",
      "1/1 [==============================] - 0s 98ms/step\n",
      "1/1 [==============================] - 0s 113ms/step\n",
      "1/1 [==============================] - 0s 98ms/step\n",
      "1/1 [==============================] - 0s 104ms/step\n",
      "1/1 [==============================] - 0s 96ms/step\n",
      "1/1 [==============================] - 0s 104ms/step\n",
      "1/1 [==============================] - 0s 113ms/step\n",
      "1/1 [==============================] - 0s 97ms/step\n",
      "1/1 [==============================] - 0s 110ms/step\n",
      "1/1 [==============================] - 0s 104ms/step\n",
      "1/1 [==============================] - 0s 107ms/step\n",
      "1/1 [==============================] - 0s 94ms/step\n",
      "1/1 [==============================] - 0s 119ms/step\n",
      "1/1 [==============================] - 0s 154ms/step\n",
      "1/1 [==============================] - 0s 124ms/step\n",
      "1/1 [==============================] - 0s 100ms/step\n",
      "1/1 [==============================] - 0s 98ms/step\n",
      "1/1 [==============================] - 0s 105ms/step\n",
      "1/1 [==============================] - 0s 103ms/step\n",
      "1/1 [==============================] - 0s 97ms/step\n",
      "1/1 [==============================] - 0s 104ms/step\n",
      "1/1 [==============================] - 0s 100ms/step\n",
      "1/1 [==============================] - 0s 103ms/step\n",
      "1/1 [==============================] - 0s 108ms/step\n",
      "1/1 [==============================] - 0s 95ms/step\n",
      "1/1 [==============================] - 0s 105ms/step\n",
      "1/1 [==============================] - 0s 94ms/step\n",
      "1/1 [==============================] - 0s 106ms/step\n",
      "1/1 [==============================] - 0s 96ms/step\n",
      "1/1 [==============================] - 0s 98ms/step\n",
      "1/1 [==============================] - 0s 97ms/step\n",
      "1/1 [==============================] - 0s 94ms/step\n",
      "1/1 [==============================] - 0s 99ms/step\n",
      "1/1 [==============================] - 0s 94ms/step\n",
      "1/1 [==============================] - 0s 96ms/step\n",
      "1/1 [==============================] - 0s 98ms/step\n",
      "1/1 [==============================] - 0s 99ms/step\n",
      "1/1 [==============================] - 0s 99ms/step\n",
      "1/1 [==============================] - 0s 94ms/step\n",
      "1/1 [==============================] - 0s 103ms/step\n",
      "1/1 [==============================] - 0s 103ms/step\n",
      "1/1 [==============================] - 0s 103ms/step\n",
      "1/1 [==============================] - 0s 103ms/step\n",
      "1/1 [==============================] - 0s 97ms/step\n",
      "1/1 [==============================] - 0s 96ms/step\n",
      "1/1 [==============================] - 0s 100ms/step\n",
      "1/1 [==============================] - 0s 97ms/step\n",
      "1/1 [==============================] - 0s 112ms/step\n",
      "1/1 [==============================] - 0s 96ms/step\n",
      "1/1 [==============================] - 0s 98ms/step\n",
      "1/1 [==============================] - 0s 103ms/step\n",
      "1/1 [==============================] - 0s 99ms/step\n",
      "1/1 [==============================] - 0s 95ms/step\n",
      "1/1 [==============================] - 0s 95ms/step\n",
      "1/1 [==============================] - 0s 104ms/step\n",
      "1/1 [==============================] - 0s 98ms/step\n",
      "Person detected!\n",
      "1/1 [==============================] - 0s 95ms/step\n",
      "Person detected!\n",
      "1/1 [==============================] - 0s 103ms/step\n",
      "Person detected!\n",
      "1/1 [==============================] - 0s 101ms/step\n",
      "Person detected!\n",
      "1/1 [==============================] - 0s 97ms/step\n",
      "Person detected!\n",
      "1/1 [==============================] - 0s 96ms/step\n",
      "1/1 [==============================] - 0s 105ms/step\n",
      "1/1 [==============================] - 0s 102ms/step\n",
      "1/1 [==============================] - 0s 104ms/step\n",
      "1/1 [==============================] - 0s 96ms/step\n",
      "1/1 [==============================] - 0s 103ms/step\n",
      "1/1 [==============================] - 0s 102ms/step\n",
      "1/1 [==============================] - 0s 98ms/step\n",
      "1/1 [==============================] - 0s 94ms/step\n",
      "1/1 [==============================] - 0s 96ms/step\n",
      "1/1 [==============================] - 0s 96ms/step\n",
      "1/1 [==============================] - 0s 96ms/step\n"
     ]
    }
   ],
   "source": [
    "import cv2\n",
    "import numpy as np\n",
    "from tensorflow.keras.models import load_model\n",
    "\n",
    "# Load the trained model\n",
    "model = load_model('C:/Users/ujjwa/OneDrive/Documents/E yantra sample/Ai/gyatt/')\n",
    "\n",
    "def preprocess_frame(frame, target_size=(224, 224)):\n",
    "    \"\"\"\n",
    "    Resize and normalize the frame to match the model's input.\n",
    "    \"\"\"\n",
    "    frame_resized = cv2.resize(frame, target_size)\n",
    "    frame_normalized = frame_resized / 255.0  # Normalize pixel values to [0, 1]\n",
    "    frame_batch = np.expand_dims(frame_normalized, axis=0)  # Add batch dimension\n",
    "    return frame_batch\n",
    "\n",
    "# Open the webcam\n",
    "cap = cv2.VideoCapture(0)\n",
    "\n",
    "if not cap.isOpened():\n",
    "    print(\"Error: Could not access the webcam.\")\n",
    "    exit()\n",
    "\n",
    "print(\"Press 'q' to exit.\")\n",
    "\n",
    "while True:\n",
    "    # Capture a frame from the webcam\n",
    "    ret, frame = cap.read()\n",
    "    if not ret:\n",
    "        print(\"Error: Could not read a frame from the webcam.\")\n",
    "        break\n",
    "\n",
    "    # Preprocess the frame for the model\n",
    "    processed_frame = preprocess_frame(frame)\n",
    "\n",
    "    # Predict using the model\n",
    "    prediction = model.predict(processed_frame)[0][0]  # Get the sigmoid output\n",
    "\n",
    "    # Check if a person is detected\n",
    "    if prediction > 0.3:  # Adjust threshold if needed\n",
    "        print(\"Person detected!\")\n",
    "\n",
    "    # Display the frame\n",
    "    cv2.imshow('Webcam Feed', frame)\n",
    "\n",
    "    # Exit the loop if 'q' is pressed\n",
    "    if cv2.waitKey(1) & 0xFF == ord('q'):\n",
    "        break\n",
    "\n",
    "# Release the webcam and close the window\n",
    "cap.release()\n",
    "cv2.destroyAllWindows()"
   ]
  },
  {
   "cell_type": "code",
   "execution_count": 36,
   "metadata": {},
   "outputs": [
    {
     "name": "stdout",
     "output_type": "stream",
     "text": [
      "1/1 [==============================] - 0s 100ms/step\n",
      "Prediction: Person detected with probability 1.00\n"
     ]
    }
   ],
   "source": [
    "from tensorflow.keras.preprocessing.image import load_img, img_to_array\n",
    "def preprocess_image(image_path, target_size=(224, 224)):\n",
    "    \"\"\"\n",
    "    Load an image, resize it, normalize pixel values, and prepare it for prediction.\n",
    "    \"\"\"\n",
    "    # Load the image in RGB format\n",
    "    image = load_img(image_path, target_size=target_size)  # Resizes the image\n",
    "    image_array = img_to_array(image)  # Convert to numpy array\n",
    "    image_normalized = image_array / 255.0  # Normalize pixel values to [0, 1]\n",
    "    image_batch = np.expand_dims(image_normalized, axis=0)  # Add batch dimension\n",
    "    return image_batch\n",
    "\n",
    "# Path to the image you want to predict\n",
    "image_path = \"C:/Users/ujjwa/Downloads/person.jpeg\"  # Update with your image file path\n",
    "\n",
    "# Preprocess the image\n",
    "preprocessed_image = preprocess_image(image_path)\n",
    "\n",
    "# Make a prediction\n",
    "prediction = model.predict(preprocessed_image)[0][0]  # Get sigmoid output\n",
    "\n",
    "# Interpret the prediction\n",
    "if prediction > 0.5:\n",
    "    print(f\"Prediction: Person detected with probability {prediction:.2f}\")\n",
    "else:\n",
    "    print(f\"Prediction: No person detected with probability {1 - prediction:.2f}\")"
   ]
  },
  {
   "cell_type": "code",
   "execution_count": 30,
   "metadata": {},
   "outputs": [
    {
     "name": "stdout",
     "output_type": "stream",
     "text": [
      "1/1 [==============================] - 0s 105ms/step\n"
     ]
    },
    {
     "data": {
      "text/plain": [
       "0.9953911"
      ]
     },
     "execution_count": 30,
     "metadata": {},
     "output_type": "execute_result"
    }
   ],
   "source": [
    "model.predict(preprocessed_image)[0][0]"
   ]
  },
  {
   "cell_type": "code",
   "execution_count": 56,
   "metadata": {},
   "outputs": [
    {
     "data": {
      "image/png": "[encoded data removed]",
      "text/plain": [
       "<Figure size 480x480 with 1 Axes>"
      ]
     },
     "metadata": {},
     "output_type": "display_data"
    },
    {
     "data": {
      "image/png": "[encoded data removed]",
      "text/plain": [
       "<Figure size 640x480 with 1 Axes>"
      ]
     },
     "metadata": {},
     "output_type": "display_data"
    }
   ],
   "source": [
    "import tensorflow as tf\n",
    "import numpy as np\n",
    "import matplotlib.pyplot as plt\n",
    "from tensorflow.keras.preprocessing.image import load_img, img_to_array\n",
    "\n",
    "\n",
    "\n",
    "# Load and preprocess the image\n",
    "image_path = 'C:/Users/ujjwa/Downloads/Hyundai-Venue-2022.jpeg'\n",
    "image = load_img(image_path, target_size=(224, 224))  # Adjust target_size to your model's input size\n",
    "image_array = img_to_array(image)\n",
    "image_array = np.expand_dims(image_array, axis=0) / 255.0  # Normalize the image\n",
    "\n",
    "def make_gradcam_heatmap(img_array, model, last_conv_layer_name, pred_index=None):\n",
    "    # Get the model's last convolutional layer\n",
    "    grad_model = tf.keras.models.Model(\n",
    "        [model.inputs], [model.get_layer(last_conv_layer_name).output, model.output]\n",
    "    )\n",
    "\n",
    "    # Compute gradients\n",
    "    with tf.GradientTape() as tape:\n",
    "        conv_outputs, predictions = grad_model(img_array)\n",
    "        if pred_index is None:\n",
    "            pred_index = tf.argmax(predictions[0])\n",
    "        class_channel = predictions[:, pred_index]\n",
    "\n",
    "    # Compute the gradient of the predicted class with respect to the outputs of the last conv layer\n",
    "    grads = tape.gradient(class_channel, conv_outputs)\n",
    "\n",
    "    # Compute the mean intensity of the gradients across the filters\n",
    "    pooled_grads = tf.reduce_mean(grads, axis=(0, 1, 2))\n",
    "\n",
    "    # Multiply each filter output by its gradient\n",
    "    conv_outputs = conv_outputs[0]\n",
    "    heatmap = tf.reduce_sum(tf.multiply(pooled_grads, conv_outputs), axis=-1)\n",
    "\n",
    "    # Apply ReLU to the heatmap (remove negative values)\n",
    "    heatmap = tf.maximum(heatmap, 0) / tf.math.reduce_max(heatmap)\n",
    "\n",
    "    return heatmap.numpy()\n",
    "\n",
    "# Specify the name of the last convolutional layer in your model\n",
    "last_conv_layer_name = 'conv5_block3_out'  # Replace with your model's last conv layer\n",
    "\n",
    "# Generate the heatmap\n",
    "heatmap = make_gradcam_heatmap(image_array, model, last_conv_layer_name)\n",
    "\n",
    "# Display the heatmap\n",
    "plt.matshow(heatmap)\n",
    "plt.show()\n",
    "\n",
    "# Overlay the heatmap on the original image\n",
    "import cv2\n",
    "\n",
    "def overlay_heatmap(img_path, heatmap, alpha=0.4, colormap=cv2.COLORMAP_JET):\n",
    "    img = cv2.imread(img_path)\n",
    "    img = cv2.cvtColor(img, cv2.COLOR_BGR2RGB)\n",
    "    heatmap = cv2.resize(heatmap, (img.shape[1], img.shape[0]))\n",
    "    heatmap = np.uint8(255 * heatmap)\n",
    "    heatmap = cv2.applyColorMap(heatmap, colormap)\n",
    "    overlayed_img = cv2.addWeighted(img, 1 - alpha, heatmap, alpha, 0)\n",
    "    return overlayed_img\n",
    "\n",
    "overlayed_image = overlay_heatmap(image_path, heatmap)\n",
    "plt.imshow(overlayed_image)\n",
    "plt.axis('off')\n",
    "plt.show()\n"
   ]
  },
  {
   "cell_type": "code",
   "execution_count": null,
   "metadata": {},
   "outputs": [],
   "source": []
  }
 ],
 "metadata": {
  "kernelspec": {
   "display_name": "Python (tf_envv)",
   "language": "python",
   "name": "tf_envv"
  },
  "language_info": {
   "codemirror_mode": {
    "name": "ipython",
    "version": 3
   },
   "file_extension": ".py",
   "mimetype": "text/x-python",
   "name": "python",
   "nbconvert_exporter": "python",
   "pygments_lexer": "ipython3",
   "version": "3.10.13"
  }
 },
 "nbformat": 4,
 "nbformat_minor": 4
}
